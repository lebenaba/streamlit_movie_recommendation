{
 "cells": [
  {
   "cell_type": "code",
   "execution_count": null,
   "metadata": {},
   "outputs": [],
   "source": [
    "import pandas as pd\n",
    "\n",
    "# Importing dataframes\n",
    "#df_tags = pd.read_csv('../data/raw/ml-25m/tags.csv')\n",
    "df_gscores = pd.read_csv('../data/raw/ml-25m/genome-scores.csv')\n",
    "df_gtags = pd.read_csv('../data/raw/ml-25m/genome-tags.csv')\n",
    "#df_links = pd.read_csv('../data/raw/ml-25m/links.csv')\n",
    "df_movies = pd.read_csv('../data/raw/ml-25m/movies.csv')\n",
    "df_ratings = pd.read_csv('../data/raw/ml-25m/ratings.csv')"
   ]
  },
  {
   "cell_type": "code",
   "execution_count": null,
   "metadata": {},
   "outputs": [],
   "source": [
    "# Create combined dataframe from the smaller dataframes and cleaning it\n",
    "df = pd.merge(df_movies, df_gscores, how=\"left\", on='movieId')\n",
    "df_gscores = pd.merge(df, df_gtags, how=\"left\", on='tagId')\n",
    "df_gscores.drop(columns=['tagId'], inplace=True)"
   ]
  },
  {
   "cell_type": "code",
   "execution_count": null,
   "metadata": {},
   "outputs": [],
   "source": [
    "# Keep only the top 40 tags for each movie\n",
    "df_gscores = df_gscores.sort_values(by=['movieId', 'relevance'], ascending=[True, False])\n",
    "df_gscores = df_gscores.groupby('movieId', group_keys=False).apply(lambda x: x.nlargest(40, 'relevance')).reset_index(drop=True)"
   ]
  },
  {
   "cell_type": "code",
   "execution_count": null,
   "metadata": {},
   "outputs": [],
   "source": [
    "# Aggregate the tags and relevances\n",
    "df_gscores = df_gscores.groupby(['movieId', 'title', 'genres']).agg({'relevance': list, 'tag': list}).reset_index()"
   ]
  },
  {
   "cell_type": "code",
   "execution_count": null,
   "metadata": {},
   "outputs": [],
   "source": [
    "# Merge and clean more\n",
    "df_ratings.drop(columns=['timestamp'], inplace=True)\n",
    "df = pd.merge(df_gscores, df_ratings, on='movieId', how='left')\n",
    "df.dropna(inplace=True)\n",
    "df['userId'] = df['userId'].astype(int)\n",
    "# removed user that is outlyer\n",
    "df = df[df['userId'] != 75309]"
   ]
  },
  {
   "cell_type": "code",
   "execution_count": null,
   "metadata": {},
   "outputs": [],
   "source": [
    "# Count the occurrences of each movieId and filter out movieIds that occur less than 2000 times\n",
    "movie_counts = df['movieId'].value_counts()\n",
    "movie_ids_to_keep = movie_counts[movie_counts >= 2000].index\n",
    "df = df[df['movieId'].isin(movie_ids_to_keep)]\n"
   ]
  },
  {
   "cell_type": "code",
   "execution_count": null,
   "metadata": {},
   "outputs": [],
   "source": [
    "import numpy as np\n",
    "\n",
    "# Function to sample rows based on the logarithm to base 1.004 of the number of rows\n",
    "def sample_log_base_1_004(group):\n",
    "    n_rows = len(group)\n",
    "    sample_size = int(np.round(np.log(n_rows) / np.log(1.004)))\n",
    "    return group.sample(n=min(sample_size, n_rows))\n",
    "\n",
    "# Group by 'movieId' and apply the sampling function\n",
    "df = df.groupby('movieId', group_keys=False).apply(sample_log_base_1_004)\n",
    "\n",
    "df['movieId'].value_counts()\n"
   ]
  },
  {
   "cell_type": "code",
   "execution_count": null,
   "metadata": {},
   "outputs": [],
   "source": [
    "# Safe the dataframe locally\n",
    "df.to_csv('../data/processed/preprocessed_data_movielens.csv', index=False)\n",
    "\n",
    "# more memory efficient alternatives for storing result locally\n",
    "# import joblib\n",
    "# joblib.dump(df, '../data/processed/preprocessed_data_movielens.pkl') # about 247 MB\n",
    "# df.to_parquet('../data/processed/preprocessed_data_movielens.parquet', compression='snappy') # about 67 MB"
   ]
  },
  {
   "cell_type": "code",
   "execution_count": null,
   "metadata": {},
   "outputs": [],
   "source": [
    "# test if the outlyer is still in the dataframe\n",
    "user_exists = df['userId'].isin([75309]).any()\n",
    "print(\"User 75390 exists in DataFrame:\", user_exists)"
   ]
  }
 ],
 "metadata": {
  "kernelspec": {
   "display_name": "Python 3",
   "language": "python",
   "name": "python3"
  },
  "language_info": {
   "codemirror_mode": {
    "name": "ipython",
    "version": 3
   },
   "file_extension": ".py",
   "mimetype": "text/x-python",
   "name": "python",
   "nbconvert_exporter": "python",
   "pygments_lexer": "ipython3",
   "version": "3.11.7"
  }
 },
 "nbformat": 4,
 "nbformat_minor": 2
}
