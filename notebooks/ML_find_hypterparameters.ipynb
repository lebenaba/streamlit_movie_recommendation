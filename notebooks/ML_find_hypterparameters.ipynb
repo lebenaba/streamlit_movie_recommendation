{
 "cells": [
  {
   "cell_type": "code",
   "execution_count": 1,
   "metadata": {},
   "outputs": [],
   "source": [
    "import pandas as pd\n",
    "import numpy as np\n",
    "from sklearn.model_selection import train_test_split, RandomizedSearchCV\n",
    "from sklearn.metrics import mean_squared_error, mean_absolute_error, r2_score\n",
    "from tensorflow.keras.models import Model\n",
    "from tensorflow.keras.layers import Input, Embedding, Flatten, Concatenate, Dense, Dropout\n",
    "from tensorflow.keras.optimizers import Adam\n",
    "from tensorflow.keras.regularizers import l2\n",
    "\n",
    "from sklearn.model_selection import train_test_split\n",
    "from sklearn.model_selection import ParameterSampler\n",
    "\n",
    "\n",
    "df = pd.read_parquet('../data/processed/preprocessed_data_with_embeddings_and_ohe.parquet')\n",
    "\n",
    "\n",
    "# This script reduces the size of the training set by sampling a fraction (10%) and uses RandomizedSearchCV to test different hyperparameters."
   ]
  },
  {
   "cell_type": "code",
   "execution_count": 2,
   "metadata": {},
   "outputs": [],
   "source": [
    "# Prepare the feature matrix and target vector\n",
    "X = df.drop(columns=['rating'])\n",
    "y = df['rating']\n",
    "\n",
    "# Create mappings for userId and movieId to continuous indices\n",
    "user_mapping = {user_id: idx for idx, user_id in enumerate(X['userId'].unique())}\n",
    "movie_mapping = {movie_id: idx for idx, movie_id in enumerate(X['movieId'].unique())}\n",
    "\n",
    "# Map userId and movieId to continuous indices\n",
    "X['userId'] = X['userId'].map(user_mapping)\n",
    "X['movieId'] = X['movieId'].map(movie_mapping)\n",
    "\n",
    "# Train-test split\n",
    "X_train, X_test, y_train, y_test = train_test_split(X, y, test_size=0.25, random_state=42)\n",
    "\n"
   ]
  },
  {
   "cell_type": "code",
   "execution_count": 3,
   "metadata": {},
   "outputs": [],
   "source": [
    "# Get the number of unique users and items\n",
    "num_users = len(user_mapping)\n",
    "num_items = len(movie_mapping)\n",
    "\n",
    "def create_model(embedding_dim=20, dropout_rate=0.2, dense_units=64, learning_rate=0.001, regularization=0.01):\n",
    "    user_input = Input(shape=(1,), name='user_input')\n",
    "    item_input = Input(shape=(1,), name='item_input')\n",
    "    \n",
    "    user_embedding = Embedding(input_dim=num_users, output_dim=embedding_dim, name='user_embedding', embeddings_regularizer=l2(regularization))(user_input)\n",
    "    item_embedding = Embedding(input_dim=num_items, output_dim=embedding_dim, name='item_embedding', embeddings_regularizer=l2(regularization))(item_input)\n",
    "    \n",
    "    user_flat = Flatten()(user_embedding)\n",
    "    item_flat = Flatten()(item_embedding)\n",
    "    \n",
    "    concat = Concatenate()([user_flat, item_flat])\n",
    "    \n",
    "    fc1 = Dense(dense_units, activation='relu')(concat)\n",
    "    drop1 = Dropout(dropout_rate)(fc1)\n",
    "    fc2 = Dense(dense_units // 2, activation='relu')(drop1)\n",
    "    drop2 = Dropout(dropout_rate)(fc2)\n",
    "    fc3 = Dense(dense_units // 4, activation='relu')(drop2)\n",
    "    output = Dense(1)(fc3)\n",
    "    \n",
    "    model = Model(inputs=[user_input, item_input], outputs=output)\n",
    "    model.compile(optimizer=Adam(learning_rate=learning_rate), loss='mae')\n",
    "    \n",
    "    return model\n",
    "\n"
   ]
  },
  {
   "cell_type": "code",
   "execution_count": 4,
   "metadata": {},
   "outputs": [],
   "source": [
    "# Define the hyperparameter grid\n",
    "param_dist = {\n",
    "    'embedding_dim': [10, 20, 30],\n",
    "    'dropout_rate': [0.2, 0.3, 0.4],\n",
    "    'dense_units': [32, 64, 128],\n",
    "    'learning_rate': [0.001, 0.01, 0.1],\n",
    "    'regularization': [0.001, 0.01, 0.1]\n",
    "}\n",
    "\n",
    "# Use a smaller subset of the training data\n",
    "X_train_sample = X_train.sample(frac=0.1, random_state=42)\n",
    "y_train_sample = y_train.loc[X_train_sample.index]\n",
    "\n",
    "train_user_input_sample = X_train_sample['userId']\n",
    "train_item_input_sample = X_train_sample['movieId']\n",
    "\n",
    "best_score = float('inf')\n",
    "best_params = None\n",
    "best_model = None\n",
    "\n",
    "for params in ParameterSampler(param_dist, n_iter=10, random_state=42):\n",
    "    model = create_model(**params)\n",
    "    history = model.fit([train_user_input_sample, train_item_input_sample], y_train_sample, epochs=30, batch_size=256, verbose=0, validation_split=0.2)\n",
    "    \n",
    "    val_score = np.min(history.history['val_loss'])\n",
    "    if val_score < best_score:\n",
    "        best_score = val_score\n",
    "        best_params = params\n",
    "        best_model = model"
   ]
  },
  {
   "cell_type": "code",
   "execution_count": 5,
   "metadata": {},
   "outputs": [
    {
     "name": "stdout",
     "output_type": "stream",
     "text": [
      "Best parameters: {'regularization': 0.001, 'learning_rate': 0.001, 'embedding_dim': 20, 'dropout_rate': 0.2, 'dense_units': 32}\n",
      "Best score: 0.8069910407066345\n",
      "\u001b[1m41185/41185\u001b[0m \u001b[32m━━━━━━━━━━━━━━━━━━━━\u001b[0m\u001b[37m\u001b[0m \u001b[1m135s\u001b[0m 3ms/step\n",
      "RMSE: 0.9888\n",
      "MAE: 0.7279\n",
      "R^2 Score: 0.1260\n"
     ]
    },
    {
     "name": "stderr",
     "output_type": "stream",
     "text": [
      "c:\\Users\\Leo\\anaconda3\\Lib\\site-packages\\sklearn\\metrics\\_regression.py:492: FutureWarning: 'squared' is deprecated in version 1.4 and will be removed in 1.6. To calculate the root mean squared error, use the function'root_mean_squared_error'.\n",
      "  warnings.warn(\n"
     ]
    }
   ],
   "source": [
    "# Display the best parameters and score\n",
    "print(f'Best parameters: {best_params}')\n",
    "print(f'Best score: {best_score}')\n",
    "\n",
    "# Evaluate the best model on the full test set\n",
    "y_pred = best_model.predict([X_test['userId'], X_test['movieId']])\n",
    "rmse = mean_squared_error(y_test, y_pred, squared=False)\n",
    "mae = mean_absolute_error(y_test, y_pred)\n",
    "r2 = r2_score(y_test, y_pred)\n",
    "\n",
    "print(f'RMSE: {rmse:.4f}')\n",
    "print(f'MAE: {mae:.4f}')\n",
    "print(f'R^2 Score: {r2:.4f}')"
   ]
  },
  {
   "cell_type": "code",
   "execution_count": 6,
   "metadata": {},
   "outputs": [
    {
     "name": "stdout",
     "output_type": "stream",
     "text": [
      "\u001b[1m2472/2472\u001b[0m \u001b[32m━━━━━━━━━━━━━━━━━━━━\u001b[0m\u001b[37m\u001b[0m \u001b[1m8s\u001b[0m 3ms/step\n"
     ]
    },
    {
     "name": "stderr",
     "output_type": "stream",
     "text": [
      "c:\\Users\\Leo\\anaconda3\\Lib\\site-packages\\sklearn\\metrics\\_regression.py:492: FutureWarning: 'squared' is deprecated in version 1.4 and will be removed in 1.6. To calculate the root mean squared error, use the function'root_mean_squared_error'.\n",
      "  warnings.warn(\n"
     ]
    },
    {
     "name": "stdout",
     "output_type": "stream",
     "text": [
      "\u001b[1m2472/2472\u001b[0m \u001b[32m━━━━━━━━━━━━━━━━━━━━\u001b[0m\u001b[37m\u001b[0m \u001b[1m7s\u001b[0m 3ms/step\n"
     ]
    },
    {
     "name": "stderr",
     "output_type": "stream",
     "text": [
      "c:\\Users\\Leo\\anaconda3\\Lib\\site-packages\\sklearn\\metrics\\_regression.py:492: FutureWarning: 'squared' is deprecated in version 1.4 and will be removed in 1.6. To calculate the root mean squared error, use the function'root_mean_squared_error'.\n",
      "  warnings.warn(\n"
     ]
    },
    {
     "name": "stdout",
     "output_type": "stream",
     "text": [
      "\u001b[1m2472/2472\u001b[0m \u001b[32m━━━━━━━━━━━━━━━━━━━━\u001b[0m\u001b[37m\u001b[0m \u001b[1m7s\u001b[0m 3ms/step\n"
     ]
    },
    {
     "name": "stderr",
     "output_type": "stream",
     "text": [
      "c:\\Users\\Leo\\anaconda3\\Lib\\site-packages\\sklearn\\metrics\\_regression.py:492: FutureWarning: 'squared' is deprecated in version 1.4 and will be removed in 1.6. To calculate the root mean squared error, use the function'root_mean_squared_error'.\n",
      "  warnings.warn(\n"
     ]
    },
    {
     "name": "stdout",
     "output_type": "stream",
     "text": [
      "\u001b[1m2472/2472\u001b[0m \u001b[32m━━━━━━━━━━━━━━━━━━━━\u001b[0m\u001b[37m\u001b[0m \u001b[1m9s\u001b[0m 3ms/step\n"
     ]
    },
    {
     "name": "stderr",
     "output_type": "stream",
     "text": [
      "c:\\Users\\Leo\\anaconda3\\Lib\\site-packages\\sklearn\\metrics\\_regression.py:492: FutureWarning: 'squared' is deprecated in version 1.4 and will be removed in 1.6. To calculate the root mean squared error, use the function'root_mean_squared_error'.\n",
      "  warnings.warn(\n"
     ]
    },
    {
     "name": "stdout",
     "output_type": "stream",
     "text": [
      "\u001b[1m2472/2472\u001b[0m \u001b[32m━━━━━━━━━━━━━━━━━━━━\u001b[0m\u001b[37m\u001b[0m \u001b[1m9s\u001b[0m 4ms/step\n",
      "5-Fold CV RMSE: 0.9716 ± 0.0107\n",
      "5-Fold CV MAE: 0.7331 ± 0.0046\n",
      "5-Fold CV R^2: 0.1552 ± 0.0176\n"
     ]
    },
    {
     "name": "stderr",
     "output_type": "stream",
     "text": [
      "c:\\Users\\Leo\\anaconda3\\Lib\\site-packages\\sklearn\\metrics\\_regression.py:492: FutureWarning: 'squared' is deprecated in version 1.4 and will be removed in 1.6. To calculate the root mean squared error, use the function'root_mean_squared_error'.\n",
      "  warnings.warn(\n"
     ]
    }
   ],
   "source": [
    "from sklearn.model_selection import KFold\n",
    "\n",
    "# 5-Fold Cross-Validation\n",
    "kf = KFold(n_splits=5, shuffle=True, random_state=42)\n",
    "\n",
    "cv_rmse = []\n",
    "cv_mae = []\n",
    "cv_r2 = []\n",
    "\n",
    "for train_index, val_index in kf.split(X_train_sample):\n",
    "    X_train_fold, X_val_fold = X_train_sample.iloc[train_index], X_train_sample.iloc[val_index]\n",
    "    y_train_fold, y_val_fold = y_train_sample.iloc[train_index], y_train_sample.iloc[val_index]\n",
    "\n",
    "    train_user_input_fold = X_train_fold['userId']\n",
    "    train_item_input_fold = X_train_fold['movieId']\n",
    "    val_user_input_fold = X_val_fold['userId']\n",
    "    val_item_input_fold = X_val_fold['movieId']\n",
    "\n",
    "    model = create_model(**best_params)\n",
    "    model.fit([train_user_input_fold, train_item_input_fold], y_train_fold, epochs=30, batch_size=256, verbose=0)\n",
    "    \n",
    "    y_val_pred = model.predict([val_user_input_fold, val_item_input_fold])\n",
    "    \n",
    "    cv_rmse.append(mean_squared_error(y_val_fold, y_val_pred, squared=False))\n",
    "    cv_mae.append(mean_absolute_error(y_val_fold, y_val_pred))\n",
    "    cv_r2.append(r2_score(y_val_fold, y_val_pred))\n",
    "\n",
    "print(f'5-Fold CV RMSE: {np.mean(cv_rmse):.4f} ± {np.std(cv_rmse):.4f}')\n",
    "print(f'5-Fold CV MAE: {np.mean(cv_mae):.4f} ± {np.std(cv_mae):.4f}')\n",
    "print(f'5-Fold CV R^2: {np.mean(cv_r2):.4f} ± {np.std(cv_r2):.4f}')\n"
   ]
  }
 ],
 "metadata": {
  "kernelspec": {
   "display_name": "base",
   "language": "python",
   "name": "python3"
  },
  "language_info": {
   "codemirror_mode": {
    "name": "ipython",
    "version": 3
   },
   "file_extension": ".py",
   "mimetype": "text/x-python",
   "name": "python",
   "nbconvert_exporter": "python",
   "pygments_lexer": "ipython3",
   "version": "3.11.7"
  }
 },
 "nbformat": 4,
 "nbformat_minor": 2
}
