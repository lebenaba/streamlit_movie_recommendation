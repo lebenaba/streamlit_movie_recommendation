{
 "cells": [
  {
   "cell_type": "code",
   "execution_count": 1,
   "metadata": {},
   "outputs": [],
   "source": [
    "import pandas as pd\n",
    "import numpy as np\n",
    "from sklearn.model_selection import train_test_split\n",
    "from sklearn.metrics import mean_squared_error\n",
    "from tensorflow.keras.models import Model\n",
    "from tensorflow.keras.layers import Input, Embedding, Flatten, Concatenate, Dense, Dropout\n",
    "from tensorflow.keras.optimizers import Adam\n",
    "from tensorflow.keras.regularizers import l2\n",
    "from tensorflow.keras.callbacks import ReduceLROnPlateau\n",
    "\n",
    "df = pd.read_parquet('../data/processed/preprocessed_data_with_embeddings_and_ohe.parquet')\n",
    "\n",
    "# The model a \"Neural Collaborative Filtering\" (NCF) model. \n",
    "# It is designed for collaborative filtering tasks,  where it leverages neural networks to learn user and item embeddings and combines them to predict user-item ratings"
   ]
  },
  {
   "cell_type": "code",
   "execution_count": 2,
   "metadata": {},
   "outputs": [],
   "source": [
    "# Prepare the feature matrix and target vector\n",
    "X = df.drop(columns=['rating'])\n",
    "y = df['rating']\n",
    "\n",
    "# Create mappings for userId and movieId to continuous indices\n",
    "user_mapping = {user_id: idx for idx, user_id in enumerate(X['userId'].unique())}\n",
    "movie_mapping = {movie_id: idx for idx, movie_id in enumerate(X['movieId'].unique())}\n",
    "\n",
    "# Map userId and movieId to continuous indices\n",
    "X['userId'] = X['userId'].map(user_mapping)\n",
    "X['movieId'] = X['movieId'].map(movie_mapping)\n",
    "\n",
    "# Train-test split\n",
    "X_train, X_test, y_train, y_test = train_test_split(X, y, test_size=0.25, random_state=42)\n",
    "\n",
    "# Get the number of unique users and items\n",
    "num_users = len(user_mapping)\n",
    "num_items = len(movie_mapping)"
   ]
  },
  {
   "cell_type": "code",
   "execution_count": 3,
   "metadata": {},
   "outputs": [],
   "source": [
    "# Define the NCF model\n",
    "embedding_dim = 20  # Reduced embedding dimension\n",
    "regularization = l2(0.001)  # L2 regularization factor\n",
    "\n",
    "user_input = Input(shape=(1,), name='user_input')\n",
    "item_input = Input(shape=(1,), name='item_input')\n",
    "\n",
    "user_embedding = Embedding(input_dim=num_users, output_dim=embedding_dim, name='user_embedding', embeddings_regularizer=regularization)(user_input)\n",
    "item_embedding = Embedding(input_dim=num_items, output_dim=embedding_dim, name='item_embedding', embeddings_regularizer=regularization)(item_input)\n",
    "\n",
    "user_flat = Flatten()(user_embedding)\n",
    "item_flat = Flatten()(item_embedding)\n",
    "\n",
    "concat = Concatenate()([user_flat, item_flat])\n",
    "\n",
    "fc1 = Dense(64, activation='relu')(concat)  # Reduced size of dense layers\n",
    "drop1 = Dropout(0.2)(fc1)  # Reduced dropout rate\n",
    "fc2 = Dense(32, activation='relu')(drop1)\n",
    "drop2 = Dropout(0.2)(fc2)\n",
    "fc3 = Dense(16, activation='relu')(drop2)\n",
    "output = Dense(1)(fc3)\n",
    "\n",
    "# Use MAE as metric\n",
    "model = Model(inputs=[user_input, item_input], outputs=output)\n",
    "model.compile(optimizer=Adam(learning_rate=0.001), loss='mae')\n",
    "\n",
    "# Prepare the inputs\n",
    "train_user_input = X_train['userId']\n",
    "train_item_input = X_train['movieId']\n",
    "test_user_input = X_test['userId']\n",
    "test_item_input = X_test['movieId']\n",
    "\n",
    "# Callbacks\n",
    "reduce_lr = ReduceLROnPlateau(monitor='val_loss', factor=0.2, patience=3, min_lr=0.0001)\n"
   ]
  },
  {
   "cell_type": "code",
   "execution_count": 4,
   "metadata": {},
   "outputs": [
    {
     "name": "stdout",
     "output_type": "stream",
     "text": [
      "Epoch 1/30\n",
      "\u001b[1m13900/13900\u001b[0m \u001b[32m━━━━━━━━━━━━━━━━━━━━\u001b[0m\u001b[37m\u001b[0m \u001b[1m1860s\u001b[0m 134ms/step - loss: 0.9286 - val_loss: 0.7759 - learning_rate: 0.0010\n",
      "Epoch 2/30\n",
      "\u001b[1m13900/13900\u001b[0m \u001b[32m━━━━━━━━━━━━━━━━━━━━\u001b[0m\u001b[37m\u001b[0m \u001b[1m732s\u001b[0m 52ms/step - loss: 0.7767 - val_loss: 0.7747 - learning_rate: 0.0010\n",
      "Epoch 3/30\n",
      "\u001b[1m13900/13900\u001b[0m \u001b[32m━━━━━━━━━━━━━━━━━━━━\u001b[0m\u001b[37m\u001b[0m \u001b[1m431s\u001b[0m 31ms/step - loss: 0.7765 - val_loss: 0.7840 - learning_rate: 0.0010\n",
      "Epoch 4/30\n",
      "\u001b[1m13900/13900\u001b[0m \u001b[32m━━━━━━━━━━━━━━━━━━━━\u001b[0m\u001b[37m\u001b[0m \u001b[1m431s\u001b[0m 31ms/step - loss: 0.7810 - val_loss: 0.7766 - learning_rate: 0.0010\n",
      "Epoch 5/30\n",
      "\u001b[1m13900/13900\u001b[0m \u001b[32m━━━━━━━━━━━━━━━━━━━━\u001b[0m\u001b[37m\u001b[0m \u001b[1m433s\u001b[0m 31ms/step - loss: 0.7773 - val_loss: 0.7799 - learning_rate: 0.0010\n",
      "Epoch 6/30\n",
      "\u001b[1m13900/13900\u001b[0m \u001b[32m━━━━━━━━━━━━━━━━━━━━\u001b[0m\u001b[37m\u001b[0m \u001b[1m432s\u001b[0m 31ms/step - loss: 0.7393 - val_loss: 0.7123 - learning_rate: 2.0000e-04\n",
      "Epoch 7/30\n",
      "\u001b[1m13900/13900\u001b[0m \u001b[32m━━━━━━━━━━━━━━━━━━━━\u001b[0m\u001b[37m\u001b[0m \u001b[1m432s\u001b[0m 31ms/step - loss: 0.7054 - val_loss: 0.7051 - learning_rate: 2.0000e-04\n",
      "Epoch 8/30\n",
      "\u001b[1m13900/13900\u001b[0m \u001b[32m━━━━━━━━━━━━━━━━━━━━\u001b[0m\u001b[37m\u001b[0m \u001b[1m433s\u001b[0m 31ms/step - loss: 0.6995 - val_loss: 0.7046 - learning_rate: 2.0000e-04\n",
      "Epoch 9/30\n",
      "\u001b[1m13900/13900\u001b[0m \u001b[32m━━━━━━━━━━━━━━━━━━━━\u001b[0m\u001b[37m\u001b[0m \u001b[1m434s\u001b[0m 31ms/step - loss: 0.6986 - val_loss: 0.7033 - learning_rate: 2.0000e-04\n",
      "Epoch 10/30\n",
      "\u001b[1m13900/13900\u001b[0m \u001b[32m━━━━━━━━━━━━━━━━━━━━\u001b[0m\u001b[37m\u001b[0m \u001b[1m433s\u001b[0m 31ms/step - loss: 0.6984 - val_loss: 0.7041 - learning_rate: 2.0000e-04\n",
      "Epoch 11/30\n",
      "\u001b[1m13900/13900\u001b[0m \u001b[32m━━━━━━━━━━━━━━━━━━━━\u001b[0m\u001b[37m\u001b[0m \u001b[1m435s\u001b[0m 31ms/step - loss: 0.6981 - val_loss: 0.7043 - learning_rate: 2.0000e-04\n",
      "Epoch 12/30\n",
      "\u001b[1m13900/13900\u001b[0m \u001b[32m━━━━━━━━━━━━━━━━━━━━\u001b[0m\u001b[37m\u001b[0m \u001b[1m435s\u001b[0m 31ms/step - loss: 0.6988 - val_loss: 0.7041 - learning_rate: 2.0000e-04\n",
      "Epoch 13/30\n",
      "\u001b[1m13900/13900\u001b[0m \u001b[32m━━━━━━━━━━━━━━━━━━━━\u001b[0m\u001b[37m\u001b[0m \u001b[1m435s\u001b[0m 31ms/step - loss: 0.6887 - val_loss: 0.6881 - learning_rate: 1.0000e-04\n",
      "Epoch 14/30\n",
      "\u001b[1m13900/13900\u001b[0m \u001b[32m━━━━━━━━━━━━━━━━━━━━\u001b[0m\u001b[37m\u001b[0m \u001b[1m438s\u001b[0m 31ms/step - loss: 0.6794 - val_loss: 0.6862 - learning_rate: 1.0000e-04\n",
      "Epoch 15/30\n",
      "\u001b[1m13900/13900\u001b[0m \u001b[32m━━━━━━━━━━━━━━━━━━━━\u001b[0m\u001b[37m\u001b[0m \u001b[1m437s\u001b[0m 31ms/step - loss: 0.6764 - val_loss: 0.6848 - learning_rate: 1.0000e-04\n",
      "Epoch 16/30\n",
      "\u001b[1m13900/13900\u001b[0m \u001b[32m━━━━━━━━━━━━━━━━━━━━\u001b[0m\u001b[37m\u001b[0m \u001b[1m437s\u001b[0m 31ms/step - loss: 0.6754 - val_loss: 0.6852 - learning_rate: 1.0000e-04\n",
      "Epoch 17/30\n",
      "\u001b[1m13900/13900\u001b[0m \u001b[32m━━━━━━━━━━━━━━━━━━━━\u001b[0m\u001b[37m\u001b[0m \u001b[1m438s\u001b[0m 32ms/step - loss: 0.6749 - val_loss: 0.6849 - learning_rate: 1.0000e-04\n",
      "Epoch 18/30\n",
      "\u001b[1m13900/13900\u001b[0m \u001b[32m━━━━━━━━━━━━━━━━━━━━\u001b[0m\u001b[37m\u001b[0m \u001b[1m438s\u001b[0m 32ms/step - loss: 0.6755 - val_loss: 0.6854 - learning_rate: 1.0000e-04\n",
      "Epoch 19/30\n",
      "\u001b[1m13900/13900\u001b[0m \u001b[32m━━━━━━━━━━━━━━━━━━━━\u001b[0m\u001b[37m\u001b[0m \u001b[1m437s\u001b[0m 31ms/step - loss: 0.6752 - val_loss: 0.6846 - learning_rate: 1.0000e-04\n",
      "Epoch 20/30\n",
      "\u001b[1m13900/13900\u001b[0m \u001b[32m━━━━━━━━━━━━━━━━━━━━\u001b[0m\u001b[37m\u001b[0m \u001b[1m439s\u001b[0m 32ms/step - loss: 0.6756 - val_loss: 0.6852 - learning_rate: 1.0000e-04\n",
      "Epoch 21/30\n",
      "\u001b[1m13900/13900\u001b[0m \u001b[32m━━━━━━━━━━━━━━━━━━━━\u001b[0m\u001b[37m\u001b[0m \u001b[1m438s\u001b[0m 32ms/step - loss: 0.6754 - val_loss: 0.6860 - learning_rate: 1.0000e-04\n",
      "Epoch 22/30\n",
      "\u001b[1m13900/13900\u001b[0m \u001b[32m━━━━━━━━━━━━━━━━━━━━\u001b[0m\u001b[37m\u001b[0m \u001b[1m439s\u001b[0m 32ms/step - loss: 0.6763 - val_loss: 0.6860 - learning_rate: 1.0000e-04\n",
      "Epoch 23/30\n",
      "\u001b[1m13900/13900\u001b[0m \u001b[32m━━━━━━━━━━━━━━━━━━━━\u001b[0m\u001b[37m\u001b[0m \u001b[1m440s\u001b[0m 32ms/step - loss: 0.6765 - val_loss: 0.6862 - learning_rate: 1.0000e-04\n",
      "Epoch 24/30\n",
      "\u001b[1m13900/13900\u001b[0m \u001b[32m━━━━━━━━━━━━━━━━━━━━\u001b[0m\u001b[37m\u001b[0m \u001b[1m439s\u001b[0m 32ms/step - loss: 0.6761 - val_loss: 0.6855 - learning_rate: 1.0000e-04\n",
      "Epoch 25/30\n",
      "\u001b[1m13900/13900\u001b[0m \u001b[32m━━━━━━━━━━━━━━━━━━━━\u001b[0m\u001b[37m\u001b[0m \u001b[1m439s\u001b[0m 32ms/step - loss: 0.6760 - val_loss: 0.6858 - learning_rate: 1.0000e-04\n",
      "Epoch 26/30\n",
      "\u001b[1m13900/13900\u001b[0m \u001b[32m━━━━━━━━━━━━━━━━━━━━\u001b[0m\u001b[37m\u001b[0m \u001b[1m439s\u001b[0m 32ms/step - loss: 0.6761 - val_loss: 0.6863 - learning_rate: 1.0000e-04\n",
      "Epoch 27/30\n",
      "\u001b[1m13900/13900\u001b[0m \u001b[32m━━━━━━━━━━━━━━━━━━━━\u001b[0m\u001b[37m\u001b[0m \u001b[1m442s\u001b[0m 32ms/step - loss: 0.6764 - val_loss: 0.6861 - learning_rate: 1.0000e-04\n",
      "Epoch 28/30\n",
      "\u001b[1m13900/13900\u001b[0m \u001b[32m━━━━━━━━━━━━━━━━━━━━\u001b[0m\u001b[37m\u001b[0m \u001b[1m438s\u001b[0m 31ms/step - loss: 0.6765 - val_loss: 0.6857 - learning_rate: 1.0000e-04\n",
      "Epoch 29/30\n",
      "\u001b[1m13900/13900\u001b[0m \u001b[32m━━━━━━━━━━━━━━━━━━━━\u001b[0m\u001b[37m\u001b[0m \u001b[1m441s\u001b[0m 32ms/step - loss: 0.6769 - val_loss: 0.6852 - learning_rate: 1.0000e-04\n",
      "Epoch 30/30\n",
      "\u001b[1m13900/13900\u001b[0m \u001b[32m━━━━━━━━━━━━━━━━━━━━\u001b[0m\u001b[37m\u001b[0m \u001b[1m439s\u001b[0m 31ms/step - loss: 0.6763 - val_loss: 0.6868 - learning_rate: 1.0000e-04\n",
      "\u001b[1m41185/41185\u001b[0m \u001b[32m━━━━━━━━━━━━━━━━━━━━\u001b[0m\u001b[37m\u001b[0m \u001b[1m49s\u001b[0m 1ms/step\n",
      "RMSE: 0.9244\n"
     ]
    },
    {
     "name": "stderr",
     "output_type": "stream",
     "text": [
      "c:\\Users\\Leo\\anaconda3\\Lib\\site-packages\\sklearn\\metrics\\_regression.py:492: FutureWarning: 'squared' is deprecated in version 1.4 and will be removed in 1.6. To calculate the root mean squared error, use the function'root_mean_squared_error'.\n",
      "  warnings.warn(\n"
     ]
    }
   ],
   "source": [
    "# Train the model\n",
    "history = model.fit([train_user_input, train_item_input], y_train,\n",
    "                    epochs=30, batch_size=256, validation_split=0.1, verbose=1, callbacks=[reduce_lr])\n",
    "\n",
    "# Evaluate the model\n",
    "y_pred = model.predict([test_user_input, test_item_input])\n",
    "rmse = mean_squared_error(y_test, y_pred, squared=False)\n",
    "print(f'RMSE: {rmse:.4f}')"
   ]
  },
  {
   "cell_type": "code",
   "execution_count": 5,
   "metadata": {},
   "outputs": [],
   "source": [
    "from keras.models import load_model\n",
    "\n",
    "# Save the model\n",
    "model.save('../models/ncf_model.keras')\n",
    "\n",
    "# Later, to load the model\n",
    "#loaded_model = load_model('../models/ncf_model.keras')\n"
   ]
  },
  {
   "cell_type": "code",
   "execution_count": 6,
   "metadata": {},
   "outputs": [
    {
     "data": {
      "image/png": "[encoded data removed]",
      "text/plain": [
       "<Figure size 1000x600 with 1 Axes>"
      ]
     },
     "metadata": {},
     "output_type": "display_data"
    }
   ],
   "source": [
    "import matplotlib.pyplot as plt\n",
    "from sklearn.metrics import mean_squared_error, mean_absolute_error, r2_score\n",
    "\n",
    "# Plot training & validation loss values\n",
    "plt.figure(figsize=(10, 6))\n",
    "plt.plot(history.history['loss'])\n",
    "plt.plot(history.history['val_loss'])\n",
    "plt.title('Model Loss')\n",
    "plt.ylabel('Loss')\n",
    "plt.xlabel('Epoch')\n",
    "plt.legend(['Train', 'Validation'], loc='upper right')\n",
    "plt.show()\n"
   ]
  },
  {
   "cell_type": "code",
   "execution_count": 8,
   "metadata": {},
   "outputs": [
    {
     "name": "stdout",
     "output_type": "stream",
     "text": [
      "\u001b[1m41185/41185\u001b[0m \u001b[32m━━━━━━━━━━━━━━━━━━━━\u001b[0m\u001b[37m\u001b[0m \u001b[1m43s\u001b[0m 1ms/step\n"
     ]
    },
    {
     "name": "stderr",
     "output_type": "stream",
     "text": [
      "c:\\Users\\Leo\\anaconda3\\Lib\\site-packages\\sklearn\\metrics\\_regression.py:492: FutureWarning: 'squared' is deprecated in version 1.4 and will be removed in 1.6. To calculate the root mean squared error, use the function'root_mean_squared_error'.\n",
      "  warnings.warn(\n"
     ]
    },
    {
     "name": "stdout",
     "output_type": "stream",
     "text": [
      "      Metric     Value\n",
      "0       RMSE  0.924392\n",
      "1        MAE  0.674445\n",
      "2  R^2 Score  0.236131\n",
      "3   Accuracy  0.714448\n",
      "4   F1 Score  0.710167\n",
      "5  Precision  0.710351\n"
     ]
    }
   ],
   "source": [
    "from sklearn.metrics import mean_squared_error, mean_absolute_error, r2_score, accuracy_score, f1_score, precision_score\n",
    "\n",
    "# Evaluate the model\n",
    "y_pred = model.predict([test_user_input, test_item_input])\n",
    "\n",
    "# Convert predictions to binary by setting a threshold (e.g., 3.5)\n",
    "threshold = 3.5\n",
    "y_test_binary = (y_test >= threshold).astype(int)\n",
    "y_pred_binary = (y_pred >= threshold).astype(int)\n",
    "\n",
    "# Calculate regression metrics\n",
    "rmse = mean_squared_error(y_test, y_pred, squared=False)\n",
    "mae = mean_absolute_error(y_test, y_pred)\n",
    "r2 = r2_score(y_test, y_pred)\n",
    "\n",
    "# Calculate classification metrics\n",
    "accuracy = accuracy_score(y_test_binary, y_pred_binary)\n",
    "f1 = f1_score(y_test_binary, y_pred_binary, average='weighted')\n",
    "precision = precision_score(y_test_binary, y_pred_binary, average='weighted')\n",
    "\n",
    "# Create a DataFrame to display the metrics\n",
    "metrics_df = pd.DataFrame({\n",
    "    'Metric': ['RMSE', 'MAE', 'R^2 Score', 'Accuracy', 'F1 Score', 'Precision'],\n",
    "    'Value': [rmse, mae, r2, accuracy, f1, precision]\n",
    "})\n",
    "\n",
    "# Print the metrics table\n",
    "print(metrics_df)\n"
   ]
  },
  {
   "cell_type": "code",
   "execution_count": 9,
   "metadata": {},
   "outputs": [
    {
     "data": {
      "text/plain": [
       "['../models/Metrics_NCF_DL.pkl']"
      ]
     },
     "execution_count": 9,
     "metadata": {},
     "output_type": "execute_result"
    }
   ],
   "source": [
    "import joblib\n",
    "\n",
    "joblib.dump(metrics_df, \"../models/Metrics_NCF_DL.pkl\")"
   ]
  },
  {
   "cell_type": "code",
   "execution_count": 10,
   "metadata": {},
   "outputs": [
    {
     "data": {
      "text/html": [
       "<div>\n",
       "<style scoped>\n",
       "    .dataframe tbody tr th:only-of-type {\n",
       "        vertical-align: middle;\n",
       "    }\n",
       "\n",
       "    .dataframe tbody tr th {\n",
       "        vertical-align: top;\n",
       "    }\n",
       "\n",
       "    .dataframe thead th {\n",
       "        text-align: right;\n",
       "    }\n",
       "</style>\n",
       "<table border=\"1\" class=\"dataframe\">\n",
       "  <thead>\n",
       "    <tr style=\"text-align: right;\">\n",
       "      <th></th>\n",
       "      <th>Metric</th>\n",
       "      <th>Value</th>\n",
       "    </tr>\n",
       "  </thead>\n",
       "  <tbody>\n",
       "    <tr>\n",
       "      <th>0</th>\n",
       "      <td>RMSE</td>\n",
       "      <td>0.924392</td>\n",
       "    </tr>\n",
       "    <tr>\n",
       "      <th>1</th>\n",
       "      <td>MAE</td>\n",
       "      <td>0.674445</td>\n",
       "    </tr>\n",
       "    <tr>\n",
       "      <th>2</th>\n",
       "      <td>R^2 Score</td>\n",
       "      <td>0.236131</td>\n",
       "    </tr>\n",
       "    <tr>\n",
       "      <th>3</th>\n",
       "      <td>Accuracy</td>\n",
       "      <td>0.714448</td>\n",
       "    </tr>\n",
       "    <tr>\n",
       "      <th>4</th>\n",
       "      <td>F1 Score</td>\n",
       "      <td>0.710167</td>\n",
       "    </tr>\n",
       "    <tr>\n",
       "      <th>5</th>\n",
       "      <td>Precision</td>\n",
       "      <td>0.710351</td>\n",
       "    </tr>\n",
       "  </tbody>\n",
       "</table>\n",
       "</div>"
      ],
      "text/plain": [
       "      Metric     Value\n",
       "0       RMSE  0.924392\n",
       "1        MAE  0.674445\n",
       "2  R^2 Score  0.236131\n",
       "3   Accuracy  0.714448\n",
       "4   F1 Score  0.710167\n",
       "5  Precision  0.710351"
      ]
     },
     "execution_count": 10,
     "metadata": {},
     "output_type": "execute_result"
    }
   ],
   "source": [
    "joblib.load(\"../models/Metrics_NCF_DL.pkl\")"
   ]
  },
  {
   "cell_type": "code",
   "execution_count": null,
   "metadata": {},
   "outputs": [],
   "source": []
  }
 ],
 "metadata": {
  "kernelspec": {
   "display_name": "base",
   "language": "python",
   "name": "python3"
  },
  "language_info": {
   "codemirror_mode": {
    "name": "ipython",
    "version": 3
   },
   "file_extension": ".py",
   "mimetype": "text/x-python",
   "name": "python",
   "nbconvert_exporter": "python",
   "pygments_lexer": "ipython3",
   "version": "3.11.7"
  }
 },
 "nbformat": 4,
 "nbformat_minor": 2
}
