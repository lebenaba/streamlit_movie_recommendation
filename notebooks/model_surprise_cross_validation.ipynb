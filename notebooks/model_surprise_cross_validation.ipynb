{
 "cells": [
  {
   "cell_type": "markdown",
   "metadata": {},
   "source": [
    "### Set random seed and relevant measure"
   ]
  },
  {
   "cell_type": "code",
   "execution_count": null,
   "metadata": {},
   "outputs": [],
   "source": [
    "\"\"\"Some algorithms randomly initialize their parameters (sometimes with numpy), and the cross-validation folds are also randomly generated. \n",
    "If you need to reproduce your experiments multiple times, you just have to set the seed of the RNG at the beginning of your program:\"\"\"\n",
    "import random\n",
    "import numpy as np\n",
    "my_seed = 42\n",
    "random.seed(my_seed)\n",
    "np.random.seed(my_seed)\n",
    "\n",
    "# define measure for which GridSearch results will be retrieved\n",
    "measure = 'mae'\n"
   ]
  },
  {
   "cell_type": "markdown",
   "metadata": {},
   "source": [
    "### Import data"
   ]
  },
  {
   "cell_type": "code",
   "execution_count": null,
   "metadata": {},
   "outputs": [],
   "source": [
    "import send_status_mail as ssm\n",
    "import joblib\n",
    "from surprise import Dataset, Reader\n",
    "from surprise.model_selection import cross_validate\n",
    "\n",
    "df = joblib.load('../data/processed/preprocessed_data_movielens.pkl')\n",
    "df.drop(columns=['title','genres','relevance','tag'], inplace=True)\n",
    "# sort columns in required order\n",
    "df = df[['userId', 'movieId', 'rating']]\n",
    "# reset index, which was nonsense after import\n",
    "df = df.reset_index().drop(columns=['index'])\n",
    "\n",
    "# Load the data into Surprise format, columns have been sorted in required order (raw user id, raw item id, rating) beforehand\n",
    "reader = Reader(rating_scale=(0.5, 5.0))\n",
    "data = Dataset.load_from_df(df, reader)"
   ]
  },
  {
   "cell_type": "markdown",
   "metadata": {},
   "source": [
    "### 5-fold cross-validation of all models"
   ]
  },
  {
   "cell_type": "markdown",
   "metadata": {},
   "source": [
    "#### KNN models"
   ]
  },
  {
   "cell_type": "code",
   "execution_count": null,
   "metadata": {},
   "outputs": [],
   "source": [
    "from surprise import KNNBasic\n",
    "\n",
    "# import results from parameter tuning\n",
    "gs_result = joblib.load('../models/surp_gridsearchcv_knnBasic.pkl')\n",
    "\n",
    "# instantiate model with winner parameters from GridSearch according to desired measure, e.g. MAE\n",
    "algo = KNNBasic(sim_options=gs_result.best_params[measure]['sim_options'], k= gs_result.best_params[measure]['k'], min_k=gs_result.best_params[measure]['min_k'])\n",
    "\n",
    "cv_knnBasic = cross_validate(algo, data, measures=[\"MAE\", \"MSE\", \"RMSE\"], cv=5, return_train_measures=True, n_jobs=-1, verbose=True)\n",
    "\n",
    "print(cv_knnBasic)\n",
    "\n",
    "# send completion message via email (server, sender, recepient according to .env)\n",
    "ssm.sendstatus(\"knnBasic cv\")"
   ]
  },
  {
   "cell_type": "code",
   "execution_count": null,
   "metadata": {},
   "outputs": [],
   "source": [
    "from surprise import KNNWithMeans\n",
    "\n",
    "# import results from parameter tuning\n",
    "gs_result = joblib.load('../models/surp_gridsearchcv_knnMeans.pkl')\n",
    "\n",
    "# instantiate model with winner parameters from GridSearch according to desired measure, e.g. MAE\n",
    "algo = KNNWithMeans(sim_options=gs_result.best_params[measure]['sim_options'], k= gs_result.best_params[measure]['k'], min_k=gs_result.best_params[measure]['min_k'])\n",
    "\n",
    "cv_knnMeans = cross_validate(algo, data, measures=[\"MAE\", \"MSE\", \"RMSE\"], cv=5, return_train_measures=True, n_jobs=-1, verbose=True)\n",
    "\n",
    "print(cv_knnMeans)\n",
    "\n",
    "# send completion message via email (server, sender, recepient according to .env)\n",
    "ssm.sendstatus(\"knnMeans cv\")"
   ]
  },
  {
   "cell_type": "code",
   "execution_count": null,
   "metadata": {},
   "outputs": [],
   "source": [
    "from surprise import KNNBaseline\n",
    "\n",
    "# import results from parameter tuning\n",
    "gs_result = joblib.load('../models/surp_gridsearchcv_knnBaseline.pkl')\n",
    "\n",
    "# instantiate model with winner parameters from GridSearch according to desired measure, e.g. MAE\n",
    "algo = KNNBaseline(sim_options=gs_result.best_params[measure]['sim_options'], k= gs_result.best_params[measure]['k'], min_k=gs_result.best_params[measure]['min_k'])\n",
    "\n",
    "cv_knnBaseline = cross_validate(algo, data, measures=[\"MAE\", \"MSE\", \"RMSE\"], cv=5, return_train_measures=True, n_jobs=-1, verbose=True)\n",
    "\n",
    "print(cv_knnBaseline)\n",
    "\n",
    "# send completion message via email (server, sender, recepient according to .env)\n",
    "ssm.sendstatus(\"knnBaseline cv\")"
   ]
  },
  {
   "cell_type": "code",
   "execution_count": null,
   "metadata": {},
   "outputs": [],
   "source": [
    "from surprise import KNNWithZScore\n",
    "\n",
    "# import results from parameter tuning\n",
    "gs_result = joblib.load('../models/surp_gridsearchcv_knnZScore.pkl')\n",
    "\n",
    "# instantiate model with winner parameters from GridSearch according to desired measure, e.g. MAE\n",
    "algo = KNNWithZScore(sim_options=gs_result.best_params[measure]['sim_options'], k= gs_result.best_params[measure]['k'], min_k=gs_result.best_params[measure]['min_k'])\n",
    "\n",
    "cv_knnZScore = cross_validate(algo, data, measures=[\"MAE\", \"MSE\", \"RMSE\"], cv=5, return_train_measures=True, n_jobs=-1, verbose=True)\n",
    "\n",
    "print(cv_knnZScore)\n",
    "\n",
    "# send completion message via email (server, sender, recepient according to .env)\n",
    "ssm.sendstatus(\"knnZScore cv\")"
   ]
  },
  {
   "cell_type": "markdown",
   "metadata": {},
   "source": [
    "#### matrix factorization models"
   ]
  },
  {
   "cell_type": "code",
   "execution_count": null,
   "metadata": {},
   "outputs": [],
   "source": [
    "from surprise import SVD\n",
    "\n",
    "# import results from parameter tuning\n",
    "gs_result = joblib.load('../models/surp_gridsearchcv_SVD.pkl')\n",
    "\n",
    "# instantiate model with winner parameters from GridSearch according to desired measure, e.g. MAE\n",
    "algo = SVD(n_factors=gs_result.best_params[measure]['n_factors'],\n",
    "           n_epochs=gs_result.best_params[measure]['n_epochs'],\n",
    "           biased=gs_result.best_params[measure]['biased'],\n",
    "           lr_all=gs_result.best_params[measure]['lr_all'],\n",
    "           reg_all=gs_result.best_params[measure]['reg_all'],\n",
    "           random_state=42)\n",
    "\n",
    "cv_SVD = cross_validate(algo, data, measures=[\"MAE\", \"MSE\", \"RMSE\"], cv=5, return_train_measures=True, n_jobs=-1, verbose=True)\n",
    "\n",
    "print(cv_SVD)\n",
    "\n",
    "# send completion message via email (server, sender, recepient according to .env)\n",
    "ssm.sendstatus(\"SVD cv\")"
   ]
  },
  {
   "cell_type": "code",
   "execution_count": null,
   "metadata": {},
   "outputs": [],
   "source": [
    "from surprise import NMF\n",
    "\n",
    "# import results from parameter tuning\n",
    "gs_result = joblib.load('../models/surp_gridsearchcv_NMF.pkl')\n",
    "\n",
    "# instantiate model with winner parameters from GridSearch according to desired measure, e.g. MAE\n",
    "algo = NMF(n_factors=gs_result.best_params[measure]['n_factors'],\n",
    "           n_epochs=gs_result.best_params[measure]['n_epochs'],\n",
    "           biased=gs_result.best_params[measure]['biased'],\n",
    "           reg_pu=gs_result.best_params[measure]['reg_pu'],\n",
    "           reg_qi=gs_result.best_params[measure]['reg_qi'],\n",
    "           random_state=42)\n",
    "\n",
    "cv_NMF = cross_validate(algo, data, measures=[\"MAE\", \"MSE\", \"RMSE\"], cv=5, return_train_measures=True, n_jobs=-1, verbose=True)\n",
    "\n",
    "print(cv_NMF)\n",
    "\n",
    "# send completion message via email (server, sender, recepient according to .env)\n",
    "ssm.sendstatus(\"NMF cv\")"
   ]
  },
  {
   "cell_type": "markdown",
   "metadata": {},
   "source": [
    "#### other models"
   ]
  },
  {
   "cell_type": "code",
   "execution_count": null,
   "metadata": {},
   "outputs": [],
   "source": [
    "from surprise import NormalPredictor\n",
    "\n",
    "# no GridSearchCV was done model does not have parameters\n",
    "\n",
    "algo = NormalPredictor()\n",
    "\n",
    "cv_rand = cross_validate(algo, data, measures=[\"MAE\", \"MSE\", \"RMSE\"], cv=5, return_train_measures=True, n_jobs=-1, verbose=True)\n",
    "\n",
    "print(cv_rand)\n",
    "\n",
    "# send completion message via email (server, sender, recepient according to .env)\n",
    "ssm.sendstatus(\"rand cv\")"
   ]
  },
  {
   "cell_type": "code",
   "execution_count": null,
   "metadata": {},
   "outputs": [],
   "source": [
    "from surprise import SlopeOne\n",
    "\n",
    "# no GridSearchCV was done model does not have parameters\n",
    "\n",
    "algo = SlopeOne()\n",
    "\n",
    "cv_SlopeOne = cross_validate(algo, data, measures=[\"MAE\", \"MSE\", \"RMSE\"], cv=5, return_train_measures=True, n_jobs=-1, verbose=True)\n",
    "\n",
    "print(cv_SlopeOne)\n",
    "\n",
    "# send completion message via email (server, sender, recepient according to .env)\n",
    "ssm.sendstatus(\"SlopeOne cv\")"
   ]
  },
  {
   "cell_type": "code",
   "execution_count": null,
   "metadata": {},
   "outputs": [],
   "source": [
    "from surprise import BaselineOnly\n",
    "\n",
    "# import results from parameter tuning\n",
    "gs_result = joblib.load('../models/surp_gridsearchcv_BaselineOnly.pkl')\n",
    "\n",
    "algo = BaselineOnly(bsl_options=gs_result.best_params[measure]['bsl_options'])\n",
    "\n",
    "cv_BaselineOnly = cross_validate(algo, data, measures=[\"MAE\", \"MSE\", \"RMSE\"], cv=5, return_train_measures=True, n_jobs=-1, verbose=True)\n",
    "\n",
    "print(cv_BaselineOnly)\n",
    "\n",
    "# send completion message via email (server, sender, recepient according to .env)\n",
    "ssm.sendstatus(\"BaselineOnly cv\")"
   ]
  },
  {
   "cell_type": "code",
   "execution_count": null,
   "metadata": {},
   "outputs": [],
   "source": [
    "from surprise import CoClustering\n",
    "\n",
    "# import results from parameter tuning\n",
    "gs_result = joblib.load('../models/surp_gridsearchcv_CoClustering.pkl')\n",
    "\n",
    "algo = CoClustering(n_cltr_u=gs_result.best_params[measure]['n_cltr_u'],\n",
    "                    n_cltr_i=gs_result.best_params[measure]['n_cltr_i'],\n",
    "                    n_epochs=gs_result.best_params[measure]['n_epochs'],\n",
    "                    random_state=42)\n",
    "\n",
    "cv_CoClustering = cross_validate(algo, data, measures=[\"MAE\", \"MSE\", \"RMSE\"], cv=5, return_train_measures=True, n_jobs=-1, verbose=True)\n",
    "\n",
    "print(cv_CoClustering)\n",
    "\n",
    "# send completion message via email (server, sender, recepient according to .env)\n",
    "ssm.sendstatus(\"CoClustering cv\")"
   ]
  },
  {
   "cell_type": "markdown",
   "metadata": {},
   "source": [
    "### concatenate and export results"
   ]
  },
  {
   "cell_type": "code",
   "execution_count": null,
   "metadata": {},
   "outputs": [],
   "source": [
    "# collect all dicts with precisions and recalls in one dict\n",
    "surp_cv_results = {}\n",
    "surp_cv_results['cv_knnBasic'] = cv_knnBasic\n",
    "surp_cv_results['cv_knnMeans'] = cv_knnMeans\n",
    "surp_cv_results['cv_knnBaseline'] = cv_knnBaseline\n",
    "surp_cv_results['cv_knnZScore'] = cv_knnZScore\n",
    "surp_cv_results['cv_SVD'] = cv_SVD\n",
    "surp_cv_results['cv_NMF'] = cv_NMF\n",
    "surp_cv_results['cv_rand'] = cv_rand\n",
    "surp_cv_results['cv_SlopeOne'] = cv_SlopeOne\n",
    "surp_cv_results['cv_BaselineOnly'] = cv_BaselineOnly\n",
    "surp_cv_results['cv_CoClustering'] = cv_CoClustering\n",
    "\n",
    "# save dict to pkl\n",
    "joblib.dump(surp_cv_results, '../models/surp_cv_results.json')\n"
   ]
  }
 ],
 "metadata": {
  "kernelspec": {
   "display_name": "Python 3",
   "language": "python",
   "name": "python3"
  },
  "language_info": {
   "codemirror_mode": {
    "name": "ipython",
    "version": 3
   },
   "file_extension": ".py",
   "mimetype": "text/x-python",
   "name": "python",
   "nbconvert_exporter": "python",
   "pygments_lexer": "ipython3",
   "version": "3.12.1"
  }
 },
 "nbformat": 4,
 "nbformat_minor": 2
}
