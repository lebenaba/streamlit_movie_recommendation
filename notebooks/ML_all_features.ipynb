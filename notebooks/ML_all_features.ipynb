{
 "cells": [
  {
   "cell_type": "code",
   "execution_count": 41,
   "metadata": {},
   "outputs": [],
   "source": [
    "import pandas as pd\n",
    "import numpy as np\n",
    "from sklearn.model_selection import train_test_split\n",
    "from sklearn.metrics import mean_squared_error\n",
    "from tensorflow.keras.models import Model\n",
    "from tensorflow.keras.layers import Input, Embedding, Flatten, Concatenate, Dense, Dropout\n",
    "from tensorflow.keras.optimizers import Adam\n",
    "from tensorflow.keras.regularizers import l2\n",
    "from tensorflow.keras.callbacks import ReduceLROnPlateau\n",
    "\n",
    "df = pd.read_parquet('../data/processed/preprocessed_data_with_embeddings_and_ohe.parquet')\n",
    "\n",
    "# The model a \"Neural Collaborative Filtering\" (NCF) model. \n",
    "# It is designed for collaborative filtering tasks,  where it leverages neural networks to learn user and item embeddings and combines them to predict user-item ratings"
   ]
  },
  {
   "cell_type": "code",
   "execution_count": 42,
   "metadata": {},
   "outputs": [],
   "source": [
    "# Prepare feature matrix X and target vector y\n",
    "X = df.drop(columns=['rating'])\n",
    "y = df['rating']\n",
    "\n",
    "# Create mappings for userId and movieId to continuous indices\n",
    "unique_users = X['userId'].unique()\n",
    "unique_movies = X['movieId'].unique()\n",
    "\n",
    "# Create dictionaries to map user_id and movie_id to continuous indices.\n",
    "user_mapping = {user_id: idx for idx, user_id in enumerate(unique_users)}\n",
    "movie_mapping = {movie_id: idx for idx, movie_id in enumerate(unique_movies)}\n",
    "\n",
    "# Map userId and movieId to continuous indices to get: efficient computation, memory efficiency, compatibility\n",
    "X['userId'] = X['userId'].map(user_mapping)\n",
    "X['movieId'] = X['movieId'].map(movie_mapping)\n",
    "\n",
    "# Train-test split\n",
    "X_train, X_test, y_train, y_test = train_test_split(X, y, test_size=0.25, random_state=42)\n",
    "\n",
    "# Get the number of unique users and items\n",
    "num_users = len(user_mapping)\n",
    "num_items = len(movie_mapping)"
   ]
  },
  {
   "cell_type": "code",
   "execution_count": 43,
   "metadata": {},
   "outputs": [],
   "source": [
    "# Define the NCF model\n",
    "\n",
    "\n",
    "embedding_dim = 20\n",
    "regularization = l2(0.001)\n",
    "\n",
    "# User and item inputs\n",
    "user_input = Input(shape=(1,), name='user_input')\n",
    "item_input = Input(shape=(1,), name='item_input')\n",
    "\n",
    "# User and item embeddings\n",
    "user_embedding = Embedding(input_dim=num_users, output_dim=embedding_dim, name='user_embedding', embeddings_regularizer=regularization)(user_input)\n",
    "item_embedding = Embedding(input_dim=num_items, output_dim=embedding_dim, name='item_embedding', embeddings_regularizer=regularization)(item_input)\n",
    "\n",
    "# Flatten embeddings\n",
    "user_flat = Flatten()(user_embedding)\n",
    "item_flat = Flatten()(item_embedding)\n",
    "\n",
    "# Additional features input\n",
    "additional_features_input = Input(shape=(X_train.shape[1] - 2,), name='additional_features_input')\n",
    "\n",
    "# Concatenate user, item embeddings with additional features\n",
    "concat = Concatenate()([user_flat, item_flat, additional_features_input])\n",
    "\n",
    "# Fully connected layers\n",
    "fc1 = Dense(64, activation='relu')(concat)\n",
    "drop1 = Dropout(0.2)(fc1)\n",
    "fc2 = Dense(32, activation='relu')(drop1)\n",
    "drop2 = Dropout(0.2)(fc2)\n",
    "fc3 = Dense(16, activation='relu')(drop2)\n",
    "output = Dense(1)(fc3)\n",
    "\n",
    "# Compile the model\n",
    "model = Model(inputs=[user_input, item_input, additional_features_input], outputs=output)\n",
    "model.compile(optimizer=Adam(learning_rate=0.001), loss='mae')\n",
    "\n",
    "# Prepare the inputs for training and testing\n",
    "train_user_input = X_train['userId']\n",
    "train_item_input = X_train['movieId']\n",
    "train_additional_features = X_train.drop(columns=['userId', 'movieId'])\n",
    "\n",
    "test_user_input = X_test['userId']\n",
    "test_item_input = X_test['movieId']\n",
    "test_additional_features = X_test.drop(columns=['userId', 'movieId'])\n",
    "\n",
    "# Callbacks\n",
    "reduce_lr = ReduceLROnPlateau(monitor='val_loss', factor=0.2, patience=3, min_lr=0.0001)\n"
   ]
  },
  {
   "cell_type": "code",
   "execution_count": 44,
   "metadata": {},
   "outputs": [],
   "source": [
    "# Ensure all elements in train_additional_features and test_additional_features are numeric\n",
    "train_additional_features = train_additional_features.apply(pd.to_numeric, errors='coerce').fillna(0)\n",
    "test_additional_features = test_additional_features.apply(pd.to_numeric, errors='coerce').fillna(0)\n",
    "\n",
    "# Convert inputs to numpy arrays and ensure they are the correct type\n",
    "train_user_input = np.array(train_user_input)\n",
    "train_item_input = np.array(train_item_input)\n",
    "train_additional_features = np.asarray(train_additional_features, dtype=np.float32)\n",
    "\n",
    "test_user_input = np.array(test_user_input)\n",
    "test_item_input = np.array(test_item_input)\n",
    "test_additional_features = np.asarray(test_additional_features, dtype=np.float32)\n"
   ]
  },
  {
   "cell_type": "code",
   "execution_count": 45,
   "metadata": {},
   "outputs": [
    {
     "name": "stdout",
     "output_type": "stream",
     "text": [
      "Epoch 1/35\n",
      "\u001b[1m13900/13900\u001b[0m \u001b[32m━━━━━━━━━━━━━━━━━━━━\u001b[0m\u001b[37m\u001b[0m \u001b[1m1061s\u001b[0m 76ms/step - loss: 0.8872 - val_loss: 0.7724 - learning_rate: 0.0010\n",
      "Epoch 2/35\n",
      "\u001b[1m13900/13900\u001b[0m \u001b[32m━━━━━━━━━━━━━━━━━━━━\u001b[0m\u001b[37m\u001b[0m \u001b[1m473s\u001b[0m 34ms/step - loss: 0.7664 - val_loss: 0.7671 - learning_rate: 0.0010\n",
      "Epoch 3/35\n",
      "\u001b[1m13900/13900\u001b[0m \u001b[32m━━━━━━━━━━━━━━━━━━━━\u001b[0m\u001b[37m\u001b[0m \u001b[1m480s\u001b[0m 35ms/step - loss: 0.7660 - val_loss: 0.7683 - learning_rate: 0.0010\n",
      "Epoch 4/35\n",
      "\u001b[1m13900/13900\u001b[0m \u001b[32m━━━━━━━━━━━━━━━━━━━━\u001b[0m\u001b[37m\u001b[0m \u001b[1m487s\u001b[0m 35ms/step - loss: 0.7679 - val_loss: 0.7723 - learning_rate: 0.0010\n",
      "Epoch 5/35\n",
      "\u001b[1m13900/13900\u001b[0m \u001b[32m━━━━━━━━━━━━━━━━━━━━\u001b[0m\u001b[37m\u001b[0m \u001b[1m498s\u001b[0m 36ms/step - loss: 0.7686 - val_loss: 0.7702 - learning_rate: 0.0010\n",
      "Epoch 6/35\n",
      "\u001b[1m13900/13900\u001b[0m \u001b[32m━━━━━━━━━━━━━━━━━━━━\u001b[0m\u001b[37m\u001b[0m \u001b[1m501s\u001b[0m 36ms/step - loss: 0.7339 - val_loss: 0.7117 - learning_rate: 2.0000e-04\n",
      "Epoch 7/35\n",
      "\u001b[1m13900/13900\u001b[0m \u001b[32m━━━━━━━━━━━━━━━━━━━━\u001b[0m\u001b[37m\u001b[0m \u001b[1m507s\u001b[0m 36ms/step - loss: 0.7033 - val_loss: 0.7053 - learning_rate: 2.0000e-04\n",
      "Epoch 8/35\n",
      "\u001b[1m13900/13900\u001b[0m \u001b[32m━━━━━━━━━━━━━━━━━━━━\u001b[0m\u001b[37m\u001b[0m \u001b[1m510s\u001b[0m 37ms/step - loss: 0.6984 - val_loss: 0.7047 - learning_rate: 2.0000e-04\n",
      "Epoch 9/35\n",
      "\u001b[1m13900/13900\u001b[0m \u001b[32m━━━━━━━━━━━━━━━━━━━━\u001b[0m\u001b[37m\u001b[0m \u001b[1m510s\u001b[0m 37ms/step - loss: 0.6965 - val_loss: 0.7042 - learning_rate: 2.0000e-04\n",
      "Epoch 10/35\n",
      "\u001b[1m13900/13900\u001b[0m \u001b[32m━━━━━━━━━━━━━━━━━━━━\u001b[0m\u001b[37m\u001b[0m \u001b[1m513s\u001b[0m 37ms/step - loss: 0.6964 - val_loss: 0.7046 - learning_rate: 2.0000e-04\n",
      "Epoch 11/35\n",
      "\u001b[1m13900/13900\u001b[0m \u001b[32m━━━━━━━━━━━━━━━━━━━━\u001b[0m\u001b[37m\u001b[0m \u001b[1m511s\u001b[0m 37ms/step - loss: 0.6963 - val_loss: 0.7046 - learning_rate: 2.0000e-04\n",
      "Epoch 12/35\n",
      "\u001b[1m13900/13900\u001b[0m \u001b[32m━━━━━━━━━━━━━━━━━━━━\u001b[0m\u001b[37m\u001b[0m \u001b[1m515s\u001b[0m 37ms/step - loss: 0.6958 - val_loss: 0.7033 - learning_rate: 2.0000e-04\n",
      "Epoch 13/35\n",
      "\u001b[1m13900/13900\u001b[0m \u001b[32m━━━━━━━━━━━━━━━━━━━━\u001b[0m\u001b[37m\u001b[0m \u001b[1m512s\u001b[0m 37ms/step - loss: 0.6953 - val_loss: 0.7054 - learning_rate: 2.0000e-04\n",
      "Epoch 14/35\n",
      "\u001b[1m13900/13900\u001b[0m \u001b[32m━━━━━━━━━━━━━━━━━━━━\u001b[0m\u001b[37m\u001b[0m \u001b[1m515s\u001b[0m 37ms/step - loss: 0.6949 - val_loss: 0.7034 - learning_rate: 2.0000e-04\n",
      "Epoch 15/35\n",
      "\u001b[1m13900/13900\u001b[0m \u001b[32m━━━━━━━━━━━━━━━━━━━━\u001b[0m\u001b[37m\u001b[0m \u001b[1m561s\u001b[0m 37ms/step - loss: 0.6947 - val_loss: 0.7050 - learning_rate: 2.0000e-04\n",
      "Epoch 16/35\n",
      "\u001b[1m13900/13900\u001b[0m \u001b[32m━━━━━━━━━━━━━━━━━━━━\u001b[0m\u001b[37m\u001b[0m \u001b[1m516s\u001b[0m 37ms/step - loss: 0.6848 - val_loss: 0.6879 - learning_rate: 1.0000e-04\n",
      "Epoch 17/35\n",
      "\u001b[1m13900/13900\u001b[0m \u001b[32m━━━━━━━━━━━━━━━━━━━━\u001b[0m\u001b[37m\u001b[0m \u001b[1m515s\u001b[0m 37ms/step - loss: 0.6751 - val_loss: 0.6862 - learning_rate: 1.0000e-04\n",
      "Epoch 18/35\n",
      "\u001b[1m13900/13900\u001b[0m \u001b[32m━━━━━━━━━━━━━━━━━━━━\u001b[0m\u001b[37m\u001b[0m \u001b[1m516s\u001b[0m 37ms/step - loss: 0.6727 - val_loss: 0.6844 - learning_rate: 1.0000e-04\n",
      "Epoch 19/35\n",
      "\u001b[1m13900/13900\u001b[0m \u001b[32m━━━━━━━━━━━━━━━━━━━━\u001b[0m\u001b[37m\u001b[0m \u001b[1m516s\u001b[0m 37ms/step - loss: 0.6711 - val_loss: 0.6834 - learning_rate: 1.0000e-04\n",
      "Epoch 20/35\n",
      "\u001b[1m13900/13900\u001b[0m \u001b[32m━━━━━━━━━━━━━━━━━━━━\u001b[0m\u001b[37m\u001b[0m \u001b[1m513s\u001b[0m 37ms/step - loss: 0.6701 - val_loss: 0.6840 - learning_rate: 1.0000e-04\n",
      "Epoch 21/35\n",
      "\u001b[1m13900/13900\u001b[0m \u001b[32m━━━━━━━━━━━━━━━━━━━━\u001b[0m\u001b[37m\u001b[0m \u001b[1m513s\u001b[0m 37ms/step - loss: 0.6696 - val_loss: 0.6837 - learning_rate: 1.0000e-04\n",
      "Epoch 22/35\n",
      "\u001b[1m13900/13900\u001b[0m \u001b[32m━━━━━━━━━━━━━━━━━━━━\u001b[0m\u001b[37m\u001b[0m \u001b[1m512s\u001b[0m 37ms/step - loss: 0.6688 - val_loss: 0.6840 - learning_rate: 1.0000e-04\n",
      "Epoch 23/35\n",
      "\u001b[1m13900/13900\u001b[0m \u001b[32m━━━━━━━━━━━━━━━━━━━━\u001b[0m\u001b[37m\u001b[0m \u001b[1m513s\u001b[0m 37ms/step - loss: 0.6689 - val_loss: 0.6826 - learning_rate: 1.0000e-04\n",
      "Epoch 24/35\n",
      "\u001b[1m13900/13900\u001b[0m \u001b[32m━━━━━━━━━━━━━━━━━━━━\u001b[0m\u001b[37m\u001b[0m \u001b[1m512s\u001b[0m 37ms/step - loss: 0.6684 - val_loss: 0.6828 - learning_rate: 1.0000e-04\n",
      "Epoch 25/35\n",
      "\u001b[1m13900/13900\u001b[0m \u001b[32m━━━━━━━━━━━━━━━━━━━━\u001b[0m\u001b[37m\u001b[0m \u001b[1m515s\u001b[0m 37ms/step - loss: 0.6685 - val_loss: 0.6832 - learning_rate: 1.0000e-04\n",
      "Epoch 26/35\n",
      "\u001b[1m13900/13900\u001b[0m \u001b[32m━━━━━━━━━━━━━━━━━━━━\u001b[0m\u001b[37m\u001b[0m \u001b[1m512s\u001b[0m 37ms/step - loss: 0.6690 - val_loss: 0.6824 - learning_rate: 1.0000e-04\n",
      "Epoch 27/35\n",
      "\u001b[1m13900/13900\u001b[0m \u001b[32m━━━━━━━━━━━━━━━━━━━━\u001b[0m\u001b[37m\u001b[0m \u001b[1m510s\u001b[0m 37ms/step - loss: 0.6689 - val_loss: 0.6831 - learning_rate: 1.0000e-04\n",
      "Epoch 28/35\n",
      "\u001b[1m13900/13900\u001b[0m \u001b[32m━━━━━━━━━━━━━━━━━━━━\u001b[0m\u001b[37m\u001b[0m \u001b[1m510s\u001b[0m 37ms/step - loss: 0.6675 - val_loss: 0.6821 - learning_rate: 1.0000e-04\n",
      "Epoch 29/35\n",
      "\u001b[1m13900/13900\u001b[0m \u001b[32m━━━━━━━━━━━━━━━━━━━━\u001b[0m\u001b[37m\u001b[0m \u001b[1m509s\u001b[0m 37ms/step - loss: 0.6677 - val_loss: 0.6825 - learning_rate: 1.0000e-04\n",
      "Epoch 30/35\n",
      "\u001b[1m13900/13900\u001b[0m \u001b[32m━━━━━━━━━━━━━━━━━━━━\u001b[0m\u001b[37m\u001b[0m \u001b[1m562s\u001b[0m 37ms/step - loss: 0.6680 - val_loss: 0.6828 - learning_rate: 1.0000e-04\n",
      "Epoch 31/35\n",
      "\u001b[1m13900/13900\u001b[0m \u001b[32m━━━━━━━━━━━━━━━━━━━━\u001b[0m\u001b[37m\u001b[0m \u001b[1m511s\u001b[0m 37ms/step - loss: 0.6676 - val_loss: 0.6821 - learning_rate: 1.0000e-04\n",
      "Epoch 32/35\n",
      "\u001b[1m13900/13900\u001b[0m \u001b[32m━━━━━━━━━━━━━━━━━━━━\u001b[0m\u001b[37m\u001b[0m \u001b[1m511s\u001b[0m 37ms/step - loss: 0.6671 - val_loss: 0.6832 - learning_rate: 1.0000e-04\n",
      "Epoch 33/35\n",
      "\u001b[1m13900/13900\u001b[0m \u001b[32m━━━━━━━━━━━━━━━━━━━━\u001b[0m\u001b[37m\u001b[0m \u001b[1m511s\u001b[0m 37ms/step - loss: 0.6683 - val_loss: 0.6832 - learning_rate: 1.0000e-04\n",
      "Epoch 34/35\n",
      "\u001b[1m13900/13900\u001b[0m \u001b[32m━━━━━━━━━━━━━━━━━━━━\u001b[0m\u001b[37m\u001b[0m \u001b[1m508s\u001b[0m 37ms/step - loss: 0.6670 - val_loss: 0.6837 - learning_rate: 1.0000e-04\n",
      "Epoch 35/35\n",
      "\u001b[1m13900/13900\u001b[0m \u001b[32m━━━━━━━━━━━━━━━━━━━━\u001b[0m\u001b[37m\u001b[0m \u001b[1m555s\u001b[0m 36ms/step - loss: 0.6677 - val_loss: 0.6826 - learning_rate: 1.0000e-04\n",
      "\u001b[1m41185/41185\u001b[0m \u001b[32m━━━━━━━━━━━━━━━━━━━━\u001b[0m\u001b[37m\u001b[0m \u001b[1m73s\u001b[0m 2ms/step\n",
      "RMSE: 0.9162\n"
     ]
    },
    {
     "name": "stderr",
     "output_type": "stream",
     "text": [
      "c:\\Users\\Leo\\anaconda3\\Lib\\site-packages\\sklearn\\metrics\\_regression.py:492: FutureWarning: 'squared' is deprecated in version 1.4 and will be removed in 1.6. To calculate the root mean squared error, use the function'root_mean_squared_error'.\n",
      "  warnings.warn(\n"
     ]
    }
   ],
   "source": [
    "# Train the model\n",
    "history = model.fit([train_user_input, train_item_input, train_additional_features], y_train,\n",
    "                    epochs=35, batch_size=256, validation_split=0.1, verbose=1, callbacks=[reduce_lr])\n",
    "\n",
    "# Evaluate the model\n",
    "y_pred = model.predict([test_user_input, test_item_input, test_additional_features])\n",
    "rmse = mean_squared_error(y_test, y_pred, squared=False)\n",
    "print(f'RMSE: {rmse:.4f}')"
   ]
  },
  {
   "cell_type": "code",
   "execution_count": 46,
   "metadata": {},
   "outputs": [],
   "source": [
    "from keras.models import load_model\n",
    "\n",
    "# Save the model\n",
    "model.save('../models/ncf_model.keras')\n",
    "\n",
    "# Later, to load the model\n",
    "#loaded_model = load_model('../models/ncf_model.keras')\n"
   ]
  },
  {
   "cell_type": "code",
   "execution_count": 47,
   "metadata": {},
   "outputs": [
    {
     "data": {
      "image/png": "[encoded data removed]",
      "text/plain": [
       "<Figure size 1000x600 with 1 Axes>"
      ]
     },
     "metadata": {},
     "output_type": "display_data"
    }
   ],
   "source": [
    "import matplotlib.pyplot as plt\n",
    "from sklearn.metrics import mean_squared_error, mean_absolute_error, r2_score\n",
    "\n",
    "# Plot training & validation loss values\n",
    "plt.figure(figsize=(10, 6))\n",
    "plt.plot(history.history['loss'])\n",
    "plt.plot(history.history['val_loss'])\n",
    "plt.title('Model Loss')\n",
    "plt.ylabel('Loss')\n",
    "plt.xlabel('Epoch')\n",
    "plt.legend(['Train', 'Validation'], loc='upper right')\n",
    "plt.show()\n"
   ]
  },
  {
   "cell_type": "code",
   "execution_count": 48,
   "metadata": {},
   "outputs": [
    {
     "name": "stdout",
     "output_type": "stream",
     "text": [
      "\u001b[1m41185/41185\u001b[0m \u001b[32m━━━━━━━━━━━━━━━━━━━━\u001b[0m\u001b[37m\u001b[0m \u001b[1m62s\u001b[0m 1ms/step\n"
     ]
    },
    {
     "name": "stderr",
     "output_type": "stream",
     "text": [
      "c:\\Users\\Leo\\anaconda3\\Lib\\site-packages\\sklearn\\metrics\\_regression.py:492: FutureWarning: 'squared' is deprecated in version 1.4 and will be removed in 1.6. To calculate the root mean squared error, use the function'root_mean_squared_error'.\n",
      "  warnings.warn(\n"
     ]
    },
    {
     "name": "stdout",
     "output_type": "stream",
     "text": [
      "      Metric     Value\n",
      "0       RMSE  0.916193\n",
      "1        MAE  0.668121\n",
      "2  R^2 Score  0.249620\n",
      "3   Accuracy  0.693522\n",
      "4   F1 Score  0.696312\n",
      "5  Precision  0.705251\n"
     ]
    }
   ],
   "source": [
    "from sklearn.metrics import mean_squared_error, mean_absolute_error, r2_score, accuracy_score, f1_score, precision_score\n",
    "\n",
    "# Evaluate the model\n",
    "y_pred = model.predict([test_user_input, test_item_input, test_additional_features])  # Ensure all necessary inputs are included\n",
    "\n",
    "# Convert predictions to binary by setting a threshold (e.g., 3.5)\n",
    "threshold = 3.5\n",
    "y_test_binary = (y_test >= threshold).astype(int)\n",
    "y_pred_binary = (y_pred >= threshold).astype(int)\n",
    "\n",
    "# Calculate regression metrics\n",
    "rmse = mean_squared_error(y_test, y_pred, squared=False)\n",
    "mae = mean_absolute_error(y_test, y_pred)\n",
    "r2 = r2_score(y_test, y_pred)\n",
    "\n",
    "# Calculate classification metrics\n",
    "accuracy = accuracy_score(y_test_binary, y_pred_binary)\n",
    "f1 = f1_score(y_test_binary, y_pred_binary, average='weighted')\n",
    "precision = precision_score(y_test_binary, y_pred_binary, average='weighted')\n",
    "\n",
    "# Create a DataFrame to display the metrics\n",
    "metrics_df = pd.DataFrame({\n",
    "    'Metric': ['RMSE', 'MAE', 'R^2 Score', 'Accuracy', 'F1 Score', 'Precision'],\n",
    "    'Value': [rmse, mae, r2, accuracy, f1, precision]\n",
    "})\n",
    "\n",
    "# Print the metrics table\n",
    "print(metrics_df)\n"
   ]
  },
  {
   "cell_type": "code",
   "execution_count": 49,
   "metadata": {},
   "outputs": [
    {
     "data": {
      "text/plain": [
       "['../models/Metrics_NCF_DL.pkl']"
      ]
     },
     "execution_count": 49,
     "metadata": {},
     "output_type": "execute_result"
    }
   ],
   "source": [
    "import joblib\n",
    "\n",
    "joblib.dump(metrics_df, \"../models/Metrics_NCF_DL.pkl\")"
   ]
  },
  {
   "cell_type": "code",
   "execution_count": 50,
   "metadata": {},
   "outputs": [
    {
     "data": {
      "text/html": [
       "<div>\n",
       "<style scoped>\n",
       "    .dataframe tbody tr th:only-of-type {\n",
       "        vertical-align: middle;\n",
       "    }\n",
       "\n",
       "    .dataframe tbody tr th {\n",
       "        vertical-align: top;\n",
       "    }\n",
       "\n",
       "    .dataframe thead th {\n",
       "        text-align: right;\n",
       "    }\n",
       "</style>\n",
       "<table border=\"1\" class=\"dataframe\">\n",
       "  <thead>\n",
       "    <tr style=\"text-align: right;\">\n",
       "      <th></th>\n",
       "      <th>Metric</th>\n",
       "      <th>Value</th>\n",
       "    </tr>\n",
       "  </thead>\n",
       "  <tbody>\n",
       "    <tr>\n",
       "      <th>0</th>\n",
       "      <td>RMSE</td>\n",
       "      <td>0.916193</td>\n",
       "    </tr>\n",
       "    <tr>\n",
       "      <th>1</th>\n",
       "      <td>MAE</td>\n",
       "      <td>0.668121</td>\n",
       "    </tr>\n",
       "    <tr>\n",
       "      <th>2</th>\n",
       "      <td>R^2 Score</td>\n",
       "      <td>0.249620</td>\n",
       "    </tr>\n",
       "    <tr>\n",
       "      <th>3</th>\n",
       "      <td>Accuracy</td>\n",
       "      <td>0.693522</td>\n",
       "    </tr>\n",
       "    <tr>\n",
       "      <th>4</th>\n",
       "      <td>F1 Score</td>\n",
       "      <td>0.696312</td>\n",
       "    </tr>\n",
       "    <tr>\n",
       "      <th>5</th>\n",
       "      <td>Precision</td>\n",
       "      <td>0.705251</td>\n",
       "    </tr>\n",
       "  </tbody>\n",
       "</table>\n",
       "</div>"
      ],
      "text/plain": [
       "      Metric     Value\n",
       "0       RMSE  0.916193\n",
       "1        MAE  0.668121\n",
       "2  R^2 Score  0.249620\n",
       "3   Accuracy  0.693522\n",
       "4   F1 Score  0.696312\n",
       "5  Precision  0.705251"
      ]
     },
     "execution_count": 50,
     "metadata": {},
     "output_type": "execute_result"
    }
   ],
   "source": [
    "joblib.load(\"../models/Metrics_NCF_DL.pkl\")"
   ]
  },
  {
   "cell_type": "code",
   "execution_count": 51,
   "metadata": {},
   "outputs": [
    {
     "name": "stdout",
     "output_type": "stream",
     "text": [
      "Columns in DataFrame:\n",
      "Index(['movieId', 'userId', 'rating', 'tag_embedding', 'Action', 'Adventure',\n",
      "       'Animation', 'Children', 'Comedy', 'Crime', 'Documentary', 'Drama',\n",
      "       'Fantasy', 'Film-Noir', 'Horror', 'IMAX', 'Musical', 'Mystery',\n",
      "       'Romance', 'Sci-Fi', 'Thriller', 'War', 'Western'],\n",
      "      dtype='object')\n",
      "\n",
      "Shape of training data:\n",
      "(3953730, 22)\n",
      "Columns in X_train:\n",
      "Index(['movieId', 'userId', 'tag_embedding', 'Action', 'Adventure',\n",
      "       'Animation', 'Children', 'Comedy', 'Crime', 'Documentary', 'Drama',\n",
      "       'Fantasy', 'Film-Noir', 'Horror', 'IMAX', 'Musical', 'Mystery',\n",
      "       'Romance', 'Sci-Fi', 'Thriller', 'War', 'Western'],\n",
      "      dtype='object')\n",
      "\n",
      "Sample inputs to the model:\n",
      "User input sample: [ 85096 145305  39073   5049  65081]\n",
      "Item input sample: [ 417 2146  662 2079 1749]\n",
      "Additional features input sample:\n",
      "     0    1    2    3    4    5    6    7    8    9    10   11   12   13   14  \\\n",
      "0  0.0  0.0  0.0  0.0  0.0  0.0  0.0  0.0  1.0  0.0  0.0  0.0  0.0  0.0  1.0   \n",
      "1  0.0  1.0  0.0  0.0  0.0  1.0  0.0  0.0  0.0  0.0  0.0  0.0  0.0  0.0  0.0   \n",
      "2  0.0  0.0  0.0  0.0  0.0  0.0  0.0  0.0  0.0  0.0  0.0  0.0  0.0  0.0  1.0   \n",
      "3  0.0  0.0  0.0  0.0  0.0  0.0  0.0  0.0  1.0  0.0  0.0  0.0  0.0  0.0  0.0   \n",
      "4  0.0  0.0  0.0  0.0  0.0  0.0  0.0  0.0  1.0  0.0  0.0  0.0  0.0  0.0  0.0   \n",
      "\n",
      "    15   16   17   18   19  \n",
      "0  0.0  0.0  1.0  0.0  0.0  \n",
      "1  0.0  0.0  0.0  0.0  0.0  \n",
      "2  0.0  0.0  1.0  0.0  0.0  \n",
      "3  0.0  0.0  0.0  0.0  0.0  \n",
      "4  0.0  0.0  0.0  0.0  0.0  \n",
      "\n",
      "Number of additional features (excluding userId and movieId):\n",
      "20\n",
      "\n",
      "Model Input Shapes:\n",
      "User input shape: (3953730,)\n",
      "Item input shape: (3953730,)\n",
      "Additional features input shape: (3953730, 20)\n"
     ]
    }
   ],
   "source": [
    "# double check, if all features were used\n",
    "\n",
    "# Print the columns of the DataFrame\n",
    "print(\"Columns in DataFrame:\")\n",
    "print(df.columns)\n",
    "\n",
    "# Check the shape of the training data\n",
    "print(\"\\nShape of training data:\")\n",
    "print(X_train.shape)\n",
    "print(\"Columns in X_train:\")\n",
    "print(X_train.columns)\n",
    "\n",
    "# Verify the inputs being fed to the model\n",
    "print(\"\\nSample inputs to the model:\")\n",
    "print(\"User input sample:\", train_user_input[:5])  # Convert to list for printing\n",
    "print(\"Item input sample:\", train_item_input[:5])  # Convert to list for printing\n",
    "print(\"Additional features input sample:\\n\", pd.DataFrame(train_additional_features).head())\n",
    "\n",
    "# Verify the number of additional features\n",
    "print(\"\\nNumber of additional features (excluding userId and movieId):\")\n",
    "print(train_additional_features.shape[1])\n",
    "\n",
    "# Ensure the inputs match the expected shapes\n",
    "print(\"\\nModel Input Shapes:\")\n",
    "print(f\"User input shape: {train_user_input.shape}\")\n",
    "print(f\"Item input shape: {train_item_input.shape}\")\n",
    "print(f\"Additional features input shape: {train_additional_features.shape}\")\n"
   ]
  },
  {
   "cell_type": "code",
   "execution_count": null,
   "metadata": {},
   "outputs": [],
   "source": []
  }
 ],
 "metadata": {
  "kernelspec": {
   "display_name": "base",
   "language": "python",
   "name": "python3"
  },
  "language_info": {
   "codemirror_mode": {
    "name": "ipython",
    "version": 3
   },
   "file_extension": ".py",
   "mimetype": "text/x-python",
   "name": "python",
   "nbconvert_exporter": "python",
   "pygments_lexer": "ipython3",
   "version": "3.11.7"
  }
 },
 "nbformat": 4,
 "nbformat_minor": 2
}
